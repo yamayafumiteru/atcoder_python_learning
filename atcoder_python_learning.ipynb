{
 "cells": [
  {
   "cell_type": "code",
   "execution_count": 1,
   "id": "e65f6415-d630-4479-bbb2-6e12fb4ad9bf",
   "metadata": {},
   "outputs": [
    {
     "name": "stdin",
     "output_type": "stream",
     "text": [
      " 213213421\n"
     ]
    },
    {
     "name": "stdout",
     "output_type": "stream",
     "text": [
      "3\n"
     ]
    }
   ],
   "source": [
    "x = list(map(str, input()))\n",
    "print(f'{x.count(\"1\")}')"
   ]
  },
  {
   "cell_type": "code",
   "execution_count": 5,
   "id": "7fbbf3f4-5a44-4627-ba35-7a6556656334",
   "metadata": {},
   "outputs": [
    {
     "name": "stdin",
     "output_type": "stream",
     "text": [
      " 4 8 8 8 0 8 8 8 8 8\n"
     ]
    },
    {
     "name": "stdout",
     "output_type": "stream",
     "text": [
      "4\n"
     ]
    }
   ],
   "source": [
    "N = list(map(int, input().split()))\n",
    "a = N[0]\n",
    "a = N[a]\n",
    "a = N[a]\n",
    "print(a)"
   ]
  },
  {
   "cell_type": "code",
   "execution_count": 3,
   "id": "d668d74c-ad56-4cc4-bbf6-44138de5f1a1",
   "metadata": {},
   "outputs": [
    {
     "name": "stdin",
     "output_type": "stream",
     "text": [
      " 5 2\n",
      " 1 2 3 4 5 5\n",
      " 5 5\n"
     ]
    },
    {
     "name": "stdout",
     "output_type": "stream",
     "text": [
      "Yes\n"
     ]
    }
   ],
   "source": [
    "N,M = map(int, input().split())\n",
    "A = list(map(int, input().split()))\n",
    "B = list(map(int, input().split()))\n",
    "ans = \"No\"\n",
    "for i in range(M):\n",
    "    if B[i] in A:\n",
    "        ans = \"Yes\"\n",
    "        A.remove(B[i])\n",
    "    else:\n",
    "        ans = \"No\"\n",
    "        break\n",
    "print(ans)"
   ]
  },
  {
   "cell_type": "code",
   "execution_count": 1,
   "id": "8a0f4a4e-1c64-4a9d-9092-1c6a54ca34f2",
   "metadata": {},
   "outputs": [
    {
     "name": "stdin",
     "output_type": "stream",
     "text": [
      " 2 3\n"
     ]
    },
    {
     "name": "stdout",
     "output_type": "stream",
     "text": [
      "a\n",
      "a\n",
      "a\n"
     ]
    }
   ],
   "source": [
    "N,M = map(int, input().split())\n",
    "for i in range(M):\n",
    "    print(\"a\")"
   ]
  },
  {
   "cell_type": "code",
   "execution_count": 8,
   "id": "1772e4db-8da3-4c95-9219-1a1d3cdd698a",
   "metadata": {},
   "outputs": [
    {
     "name": "stdin",
     "output_type": "stream",
     "text": [
      " 5 2\n",
      " 1 2 3 4 5 5\n",
      " 5 5\n"
     ]
    },
    {
     "name": "stdout",
     "output_type": "stream",
     "text": [
      "[1, 2, 3, 4, 5]\n",
      "[1, 2, 3, 4]\n"
     ]
    }
   ],
   "source": [
    "N,M = map(int, input().split())\n",
    "A = list(map(int, input().split()))\n",
    "B = list(map(int, input().split()))\n",
    "for i in range(M):\n",
    "    if B[i] in A:\n",
    "        ans = \"Yes\"\n",
    "        A.remove(B[i])\n",
    "        print(A)\n",
    "    else:\n",
    "        print(A)"
   ]
  },
  {
   "cell_type": "code",
   "execution_count": 1,
   "id": "cf41c662-544d-443a-8cb9-0e1f5ed8e98d",
   "metadata": {},
   "outputs": [
    {
     "name": "stdin",
     "output_type": "stream",
     "text": [
      " 2 3\n"
     ]
    },
    {
     "name": "stdout",
     "output_type": "stream",
     "text": [
      "0\n",
      "1\n",
      "2\n"
     ]
    }
   ],
   "source": [
    "N,M = map(int, input().split())\n",
    "for i in range(M):\n",
    "    print(i)"
   ]
  },
  {
   "cell_type": "code",
   "execution_count": null,
   "id": "5701780f-6dc5-4510-9390-e5a46420191d",
   "metadata": {},
   "outputs": [],
   "source": [
    "N = int(input())\n",
    "S = list(map(str, input()))\n",
    "#Cの場合は次いく\n",
    "#Aの場合は、次みる\n",
    "#Bの場合、次がBかどうかみる、BだったらAにして消す、AだったらBにして再度Aにする。\n",
    "\n",
    "for i in range(N):\n",
    "    if S[i] == \"B\" and S[i+1] == \"B\":\n",
    "        S[i] == \"A\"\n",
    "        del S[i+1]\n",
    "    elif S[i] == \"B\" and S[i+1] == \"A\":\n",
    "        S[i] == \"A\"\n",
    "        S[i+1] == \"B\"\n",
    "    else:\n",
    "        break\n",
    "print(S)"
   ]
  },
  {
   "cell_type": "code",
   "execution_count": 1,
   "id": "0878659d-2130-48e6-ad3f-7179d1b40415",
   "metadata": {},
   "outputs": [
    {
     "name": "stdin",
     "output_type": "stream",
     "text": [
      " 2\n"
     ]
    },
    {
     "name": "stdout",
     "output_type": "stream",
     "text": [
      "119027\n"
     ]
    }
   ],
   "source": [
    "t = int(input())\n",
    "def fun(ts):\n",
    "  return ts * ts + 2 * ts + 3\n",
    "print(f\"{fun(fun(fun(t)+t)+fun(fun(t)))}\")"
   ]
  },
  {
   "cell_type": "code",
   "execution_count": 7,
   "id": "3dd6d06f-b708-4240-a0e4-0f246111f82d",
   "metadata": {},
   "outputs": [
    {
     "name": "stdin",
     "output_type": "stream",
     "text": [
      " 1 2 1 1000\n"
     ]
    },
    {
     "name": "stdout",
     "output_type": "stream",
     "text": [
      "1.0\n"
     ]
    }
   ],
   "source": [
    "array = list(map(int,input().split()))\n",
    "ans = 0\n",
    "if array[0] > array[3]:\n",
    "    ans = 1\n",
    "else:\n",
    "    a = array[1] - array[0]\n",
    "    b = array[2]/a\n",
    "    ans = b\n",
    "print(ans)"
   ]
  },
  {
   "cell_type": "code",
   "execution_count": 19,
   "id": "900a2ccb-9f22-4084-b230-11b5c9b640d4",
   "metadata": {},
   "outputs": [
    {
     "name": "stdin",
     "output_type": "stream",
     "text": [
      " aba\n"
     ]
    },
    {
     "name": "stdout",
     "output_type": "stream",
     "text": [
      "aab\n"
     ]
    }
   ],
   "source": [
    "a = list(input())\n",
    "a.sort()\n",
    "print(\"\".join(a))"
   ]
  },
  {
   "cell_type": "code",
   "execution_count": 1,
   "id": "25c55124-17c1-40bc-b541-40d4399410df",
   "metadata": {},
   "outputs": [
    {
     "data": {
      "text/plain": [
       "5"
      ]
     },
     "execution_count": 1,
     "metadata": {},
     "output_type": "execute_result"
    }
   ],
   "source": [
    "2+3"
   ]
  },
  {
   "cell_type": "code",
   "execution_count": null,
   "id": "b4133cae-3e47-4099-b604-ded8b4760980",
   "metadata": {},
   "outputs": [],
   "source": []
  },
  {
   "cell_type": "code",
   "execution_count": null,
   "id": "2fee2562-6c36-4dd0-8949-5b4e625dfd43",
   "metadata": {},
   "outputs": [],
   "source": []
  },
  {
   "cell_type": "code",
   "execution_count": null,
   "id": "ad5c96b8-1329-4c74-bb8a-e5840c4508c6",
   "metadata": {},
   "outputs": [],
   "source": []
  },
  {
   "cell_type": "code",
   "execution_count": null,
   "id": "e592571b-997c-41ef-b46a-d20d09072473",
   "metadata": {},
   "outputs": [],
   "source": []
  },
  {
   "cell_type": "code",
   "execution_count": null,
   "id": "c6970ede-fd03-4ba2-915e-ebf92acadaf7",
   "metadata": {},
   "outputs": [],
   "source": []
  },
  {
   "cell_type": "code",
   "execution_count": null,
   "id": "30d9d9d1-7e73-4c51-8565-1d4a23cb911b",
   "metadata": {},
   "outputs": [],
   "source": []
  },
  {
   "cell_type": "code",
   "execution_count": null,
   "id": "43c52752-b25d-4509-b7eb-a80b39cf854a",
   "metadata": {},
   "outputs": [],
   "source": []
  },
  {
   "cell_type": "code",
   "execution_count": null,
   "id": "705be987-7ad8-4212-9e9e-9b5eed204778",
   "metadata": {},
   "outputs": [],
   "source": []
  },
  {
   "cell_type": "code",
   "execution_count": null,
   "id": "7faa31c9-1aee-491c-85c0-339545a4d4af",
   "metadata": {},
   "outputs": [],
   "source": []
  },
  {
   "cell_type": "code",
   "execution_count": null,
   "id": "4dfc8f53-24a8-4da9-968f-f282c552f3b7",
   "metadata": {},
   "outputs": [],
   "source": []
  },
  {
   "cell_type": "code",
   "execution_count": null,
   "id": "f91ed759-7ca9-4b9b-9d0f-131083401d99",
   "metadata": {},
   "outputs": [],
   "source": []
  },
  {
   "cell_type": "code",
   "execution_count": null,
   "id": "29ec9cd7-9567-4c44-bd88-b5458cc62092",
   "metadata": {},
   "outputs": [],
   "source": []
  },
  {
   "cell_type": "code",
   "execution_count": null,
   "id": "f3df5930-2eb6-4431-8c8c-6f8b047a09b7",
   "metadata": {},
   "outputs": [],
   "source": []
  },
  {
   "cell_type": "code",
   "execution_count": null,
   "id": "b39dd0f2-0d47-464c-a81b-6bcd8fbfb505",
   "metadata": {},
   "outputs": [],
   "source": []
  },
  {
   "cell_type": "code",
   "execution_count": null,
   "id": "09f09562-c7de-4fd4-a8cf-7ea79155d03c",
   "metadata": {},
   "outputs": [],
   "source": []
  },
  {
   "cell_type": "code",
   "execution_count": null,
   "id": "bd23d71d-0ef5-4922-bf4d-b85b8bb165db",
   "metadata": {},
   "outputs": [],
   "source": []
  },
  {
   "cell_type": "code",
   "execution_count": null,
   "id": "faf72354-1229-47f9-beaa-a0acf179e34f",
   "metadata": {},
   "outputs": [],
   "source": []
  },
  {
   "cell_type": "code",
   "execution_count": null,
   "id": "2b60e3bf-dfab-417d-9e25-5473e5766c46",
   "metadata": {},
   "outputs": [],
   "source": []
  }
 ],
 "metadata": {
  "kernelspec": {
   "display_name": "Python 3 (ipykernel)",
   "language": "python",
   "name": "python3"
  },
  "language_info": {
   "codemirror_mode": {
    "name": "ipython",
    "version": 3
   },
   "file_extension": ".py",
   "mimetype": "text/x-python",
   "name": "python",
   "nbconvert_exporter": "python",
   "pygments_lexer": "ipython3",
   "version": "3.9.10"
  }
 },
 "nbformat": 4,
 "nbformat_minor": 5
}
